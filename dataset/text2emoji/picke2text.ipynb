{
 "cells": [
  {
   "cell_type": "code",
   "execution_count": 1,
   "metadata": {},
   "outputs": [],
   "source": [
    "import pickle\n",
    "from sklearn.model_selection import train_test_split"
   ]
  },
  {
   "cell_type": "code",
   "execution_count": 2,
   "metadata": {},
   "outputs": [],
   "source": [
    "file_name = \"data/SE0714/raw.pickle\" \n",
    "\n",
    "with open(file_name, 'rb') as f:\n",
    "    u = pickle._Unpickler(f)\n",
    "    u.encoding = 'latin1'\n",
    "    data = u.load()\n",
    "\n",
    "### Read \n",
    "try:\n",
    "    \n",
    "    texts = [x for x in data['texts']]\n",
    "    labels = [x['label'] for x in data['info']]\n",
    "\n",
    "except UnicodeDecodeError as e:\n",
    "    texts = [x for x in data['texts']]\n",
    "    labels = [x['label'] for x in data['info']]"
   ]
  },
  {
   "cell_type": "code",
   "execution_count": 3,
   "metadata": {},
   "outputs": [],
   "source": [
    "X_train, X_test, y_train, y_test = train_test_split(texts,labels,test_size=0.2, random_state=42)\n",
    "\n",
    "fout = open(\"train_SE0714.txt\",\"w\")\n",
    "for i in range(len(X_train)):\n",
    "    fout.write(str(list(y_train[i]))+\"\\t\"+X_train[i]+\"\\n\")\n",
    "fout.close()\n",
    "\n",
    "fout = open(\"test_SE0714.txt\",\"w\")\n",
    "for i in range(len(X_test)):\n",
    "    fout.write(str(list(y_test[i]))+\"\\t\"+X_test[i]+\"\\n\")\n",
    "fout.close()"
   ]
  },
  {
   "cell_type": "code",
   "execution_count": null,
   "metadata": {},
   "outputs": [],
   "source": []
  }
 ],
 "metadata": {
  "kernelspec": {
   "display_name": "Python 3",
   "language": "python",
   "name": "python3"
  },
  "language_info": {
   "codemirror_mode": {
    "name": "ipython",
    "version": 3
   },
   "file_extension": ".py",
   "mimetype": "text/x-python",
   "name": "python",
   "nbconvert_exporter": "python",
   "pygments_lexer": "ipython3",
   "version": "3.6.5"
  }
 },
 "nbformat": 4,
 "nbformat_minor": 2
}
